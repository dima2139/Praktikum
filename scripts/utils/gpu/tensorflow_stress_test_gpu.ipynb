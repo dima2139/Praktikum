{
 "cells": [
  {
   "cell_type": "code",
   "execution_count": null,
   "metadata": {
    "id": "cPGdXf6WMGKU"
   },
   "outputs": [
    {
     "ename": "",
     "evalue": "",
     "output_type": "error",
     "traceback": [
      "\u001b[1;31mFailed to start the Kernel. \n",
      "\u001b[1;31mspawn /conda ENOENT. \n",
      "\u001b[1;31mView Jupyter <a href='command:jupyter.viewOutput'>log</a> for further details."
     ]
    }
   ],
   "source": [
    "# TensorFlow and tf.keras\n",
    "import tensorflow as tf\n",
    "from tensorflow import keras\n",
    "\n",
    "# Helper libraries\n",
    "import numpy as np\n",
    "import matplotlib.pyplot as plt\n",
    "\n",
    "print(tf.__version__)\n",
    "\n",
    "physical_devices = tf.config.experimental.list_physical_devices('GPU')\n",
    "\n",
    "for device in physical_devices:\n",
    "    tf.config.experimental.set_memory_growth(device, True)\n",
    "\n",
    "# checking shape\n",
    "print(train_images.shape)\n",
    "print(train_labels[0])\n",
    "\n",
    "# checking images\n",
    "class_names = ['T-shirt/top', 'Trouser', 'Pullover', 'Dress', 'Coat',\n",
    "               'Sandal', 'Shirt', 'Sneaker', 'Bag', 'Ankle boot']\n",
    "\n",
    "plt.imshow(train_images[0])\n",
    "class_names[train_labels[0]]\n",
    "\n",
    "plt.figure(figsize=(3,3))\n",
    "for i in range(5):\n",
    "    plt.imshow(train_images[i])\n",
    "    plt.xlabel(class_names[train_labels[i]])\n",
    "    plt.show()\n",
    "\n",
    "# scaling\n",
    "train_images_scaled = train_images / 255.0\n",
    "test_images_scaled = test_images / 255.0\n",
    "\n",
    "def get_model(hidden_layers=1):\n",
    "    # Flatten layer for input\n",
    "    layers = [keras.layers.Flatten(input_shape=(28, 28))]\n",
    "    # hideen layers\n",
    "    for i in range(hidden_layers):\n",
    "        layers.append(keras.layers.Dense(500, activation='relu'),)\n",
    "    # output layer    \n",
    "    layers.append(keras.layers.Dense(10, activation='sigmoid'))\n",
    "\n",
    "    model = keras.Sequential(layers)\n",
    "    \n",
    "    model.compile(optimizer='adam',\n",
    "                  loss='sparse_categorical_crossentropy',\n",
    "                  metrics=['accuracy'])\n",
    "    \n",
    "    return model\n",
    "\n",
    "model = get_model(1)\n",
    "model.fit(train_images_scaled, train_labels, epochs=5)\n",
    "\n",
    "model.predict(test_images_scaled)[2]\n",
    "\n",
    "class_names[test_labels[2]]\n",
    "\n",
    "tf.config.experimental.list_physical_devices()\n",
    "\n",
    "with tf.device('/CPU:0'):\n",
    "    cpu_model = get_model(hidden_layers=1)\n",
    "    cpu_model.fit(train_images_scaled, train_labels, epochs=5, verbose=0)\n",
    "\n",
    "with tf.device('/GPU:0'):\n",
    "    gpu_model = get_model(hidden_layers=1)\n",
    "    gpu_model.fit(train_images_scaled, train_labels, epochs=5)\n",
    "\n",
    "with tf.device('/CPU:0'):\n",
    "    cpu_model = get_model(hidden_layers=5)\n",
    "    cpu_model.fit(train_images_scaled, train_labels, epochs=5)\n",
    "\n",
    "with tf.device('/GPU:0'):\n",
    "    gpu_model = get_model(hidden_layers=5)\n",
    "    gpu_model.fit(train_images_scaled, train_labels, epochs=5)"
   ]
  }
 ],
 "metadata": {
  "colab": {
   "name": "exercise_fashion_mnist_gpu_benchmarking.ipynb",
   "provenance": []
  },
  "kernelspec": {
   "display_name": "Python 3.9.15 ('tf2_11')",
   "language": "python",
   "name": "python3"
  },
  "language_info": {
   "codemirror_mode": {
    "name": "ipython",
    "version": 3
   },
   "file_extension": ".py",
   "mimetype": "text/x-python",
   "name": "python",
   "nbconvert_exporter": "python",
   "pygments_lexer": "ipython3",
   "version": "3.9.15"
  },
  "vscode": {
   "interpreter": {
    "hash": "e41dd671d2edde551cbed1035c002c2d893b16cf4aa7044b854b03df34b4ae4b"
   }
  }
 },
 "nbformat": 4,
 "nbformat_minor": 1
}
